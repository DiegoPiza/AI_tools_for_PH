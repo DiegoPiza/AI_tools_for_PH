{
 "cells": [
  {
   "cell_type": "markdown",
   "id": "bf5c161f-f7a4-4f12-8843-31e56b035764",
   "metadata": {},
   "source": [
    "# Final Assignment\n",
    "The following script will load data regarding COVID-19-related deaths grouped by vaccination status and age, and briefly visualize and analyze potential differences in death rates given different vaccination status and age groups.\n",
    "Obtained from the Government of Ontario Data Catalogue, the link to the CSV file can be found on README.md  "
   ]
  },
  {
   "cell_type": "markdown",
   "id": "5b519091-bf23-461b-a279-bf83138420e3",
   "metadata": {},
   "source": [
    "## Importing libraries"
   ]
  },
  {
   "cell_type": "code",
   "execution_count": 2,
   "id": "a1bee83a-20bf-49ba-afdc-00d9a66dafae",
   "metadata": {},
   "outputs": [],
   "source": [
    "import pandas as pd\n",
    "import numpy as np\n",
    "import matplotlib.pyplot as plt\n",
    "import matplotlib.dates as mdates\n",
    "import matplotlib.cbook as cbook"
   ]
  },
  {
   "cell_type": "markdown",
   "id": "aabf09dd-f44d-4ae6-ac92-68fed2421f3b",
   "metadata": {},
   "source": [
    "## Importing data set and summarizing\n",
    "First, we import the CSV file using pandas and visualize the first few rows"
   ]
  },
  {
   "cell_type": "code",
   "execution_count": 3,
   "id": "773b8d75-b36a-4e75-b6ee-624ed9145366",
   "metadata": {},
   "outputs": [
    {
     "data": {
      "text/html": [
       "<div>\n",
       "<style scoped>\n",
       "    .dataframe tbody tr th:only-of-type {\n",
       "        vertical-align: middle;\n",
       "    }\n",
       "\n",
       "    .dataframe tbody tr th {\n",
       "        vertical-align: top;\n",
       "    }\n",
       "\n",
       "    .dataframe thead th {\n",
       "        text-align: right;\n",
       "    }\n",
       "</style>\n",
       "<table border=\"1\" class=\"dataframe\">\n",
       "  <thead>\n",
       "    <tr style=\"text-align: right;\">\n",
       "      <th></th>\n",
       "      <th>_id</th>\n",
       "      <th>date</th>\n",
       "      <th>age_group</th>\n",
       "      <th>deaths_boost_vac_rate_7ma</th>\n",
       "      <th>deaths_full_vac_rate_7ma</th>\n",
       "      <th>deaths_not_full_vac_rate_7ma</th>\n",
       "    </tr>\n",
       "  </thead>\n",
       "  <tbody>\n",
       "    <tr>\n",
       "      <th>0</th>\n",
       "      <td>8858</td>\n",
       "      <td>2021-03-01T00:00:00</td>\n",
       "      <td>0-4yrs</td>\n",
       "      <td>0.0</td>\n",
       "      <td>0.0</td>\n",
       "      <td>0.00</td>\n",
       "    </tr>\n",
       "    <tr>\n",
       "      <th>1</th>\n",
       "      <td>8859</td>\n",
       "      <td>2021-03-01T00:00:00</td>\n",
       "      <td>5-11yrs</td>\n",
       "      <td>0.0</td>\n",
       "      <td>0.0</td>\n",
       "      <td>0.00</td>\n",
       "    </tr>\n",
       "    <tr>\n",
       "      <th>2</th>\n",
       "      <td>8860</td>\n",
       "      <td>2021-03-01T00:00:00</td>\n",
       "      <td>12-17yrs</td>\n",
       "      <td>0.0</td>\n",
       "      <td>0.0</td>\n",
       "      <td>0.00</td>\n",
       "    </tr>\n",
       "    <tr>\n",
       "      <th>3</th>\n",
       "      <td>8861</td>\n",
       "      <td>2021-03-01T00:00:00</td>\n",
       "      <td>18-39yrs</td>\n",
       "      <td>0.0</td>\n",
       "      <td>0.0</td>\n",
       "      <td>0.00</td>\n",
       "    </tr>\n",
       "    <tr>\n",
       "      <th>4</th>\n",
       "      <td>8862</td>\n",
       "      <td>2021-03-01T00:00:00</td>\n",
       "      <td>40-59yrs</td>\n",
       "      <td>0.0</td>\n",
       "      <td>0.0</td>\n",
       "      <td>0.02</td>\n",
       "    </tr>\n",
       "  </tbody>\n",
       "</table>\n",
       "</div>"
      ],
      "text/plain": [
       "    _id                 date age_group  deaths_boost_vac_rate_7ma  \\\n",
       "0  8858  2021-03-01T00:00:00    0-4yrs                        0.0   \n",
       "1  8859  2021-03-01T00:00:00   5-11yrs                        0.0   \n",
       "2  8860  2021-03-01T00:00:00  12-17yrs                        0.0   \n",
       "3  8861  2021-03-01T00:00:00  18-39yrs                        0.0   \n",
       "4  8862  2021-03-01T00:00:00  40-59yrs                        0.0   \n",
       "\n",
       "   deaths_full_vac_rate_7ma  deaths_not_full_vac_rate_7ma  \n",
       "0                       0.0                          0.00  \n",
       "1                       0.0                          0.00  \n",
       "2                       0.0                          0.00  \n",
       "3                       0.0                          0.00  \n",
       "4                       0.0                          0.02  "
      ]
     },
     "execution_count": 3,
     "metadata": {},
     "output_type": "execute_result"
    }
   ],
   "source": [
    "# Load the dataset\n",
    "dataset = pd.read_csv('2aa6e2ce-40de-4910-a737-81762e014b0b.csv')\n",
    "\n",
    "# Display the first few rows of the dataset\n",
    "dataset.head()"
   ]
  },
  {
   "cell_type": "code",
   "execution_count": null,
   "id": "1028b521-3a89-4245-9fca-caf5ac6bca6d",
   "metadata": {},
   "outputs": [],
   "source": []
  }
 ],
 "metadata": {
  "kernelspec": {
   "display_name": "Python 3 (ipykernel)",
   "language": "python",
   "name": "python3"
  },
  "language_info": {
   "codemirror_mode": {
    "name": "ipython",
    "version": 3
   },
   "file_extension": ".py",
   "mimetype": "text/x-python",
   "name": "python",
   "nbconvert_exporter": "python",
   "pygments_lexer": "ipython3",
   "version": "3.11.5"
  }
 },
 "nbformat": 4,
 "nbformat_minor": 5
}
