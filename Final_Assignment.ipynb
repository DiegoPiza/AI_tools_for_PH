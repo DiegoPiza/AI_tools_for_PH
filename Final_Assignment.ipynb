{
 "cells": [
  {
   "cell_type": "markdown",
   "id": "bf5c161f-f7a4-4f12-8843-31e56b035764",
   "metadata": {},
   "source": [
    "# Final Assignment\n",
    "The following script will load data regarding COVID-19-related deaths grouped by vaccination status and age, and briefly visualize and analyze potential differences in death rates given different vaccination status and age groups.\n",
    "Obtained from the Government of Ontario Data Catalogue, the link to the CSV file can be found on README.md  "
   ]
  },
  {
   "cell_type": "markdown",
   "id": "5b519091-bf23-461b-a279-bf83138420e3",
   "metadata": {},
   "source": [
    "## Importing libraries"
   ]
  },
  {
   "cell_type": "code",
   "execution_count": 12,
   "id": "a1bee83a-20bf-49ba-afdc-00d9a66dafae",
   "metadata": {},
   "outputs": [],
   "source": [
    "import pandas as pd\n",
    "import numpy as np\n",
    "import matplotlib.pyplot as plt\n",
    "import matplotlib.dates as mdates\n",
    "import matplotlib.cbook as cbook\n",
    "import seaborn as sns"
   ]
  },
  {
   "cell_type": "markdown",
   "id": "aabf09dd-f44d-4ae6-ac92-68fed2421f3b",
   "metadata": {},
   "source": [
    "## Importing data set and understanding\n",
    "First, we import the CSV file using pandas and explore the contents"
   ]
  },
  {
   "cell_type": "code",
   "execution_count": 4,
   "id": "773b8d75-b36a-4e75-b6ee-624ed9145366",
   "metadata": {},
   "outputs": [
    {
     "data": {
      "text/html": [
       "<div>\n",
       "<style scoped>\n",
       "    .dataframe tbody tr th:only-of-type {\n",
       "        vertical-align: middle;\n",
       "    }\n",
       "\n",
       "    .dataframe tbody tr th {\n",
       "        vertical-align: top;\n",
       "    }\n",
       "\n",
       "    .dataframe thead th {\n",
       "        text-align: right;\n",
       "    }\n",
       "</style>\n",
       "<table border=\"1\" class=\"dataframe\">\n",
       "  <thead>\n",
       "    <tr style=\"text-align: right;\">\n",
       "      <th></th>\n",
       "      <th>_id</th>\n",
       "      <th>date</th>\n",
       "      <th>age_group</th>\n",
       "      <th>deaths_boost_vac_rate_7ma</th>\n",
       "      <th>deaths_full_vac_rate_7ma</th>\n",
       "      <th>deaths_not_full_vac_rate_7ma</th>\n",
       "    </tr>\n",
       "  </thead>\n",
       "  <tbody>\n",
       "    <tr>\n",
       "      <th>0</th>\n",
       "      <td>8858</td>\n",
       "      <td>2021-03-01T00:00:00</td>\n",
       "      <td>0-4yrs</td>\n",
       "      <td>0.0</td>\n",
       "      <td>0.0</td>\n",
       "      <td>0.00</td>\n",
       "    </tr>\n",
       "    <tr>\n",
       "      <th>1</th>\n",
       "      <td>8859</td>\n",
       "      <td>2021-03-01T00:00:00</td>\n",
       "      <td>5-11yrs</td>\n",
       "      <td>0.0</td>\n",
       "      <td>0.0</td>\n",
       "      <td>0.00</td>\n",
       "    </tr>\n",
       "    <tr>\n",
       "      <th>2</th>\n",
       "      <td>8860</td>\n",
       "      <td>2021-03-01T00:00:00</td>\n",
       "      <td>12-17yrs</td>\n",
       "      <td>0.0</td>\n",
       "      <td>0.0</td>\n",
       "      <td>0.00</td>\n",
       "    </tr>\n",
       "    <tr>\n",
       "      <th>3</th>\n",
       "      <td>8861</td>\n",
       "      <td>2021-03-01T00:00:00</td>\n",
       "      <td>18-39yrs</td>\n",
       "      <td>0.0</td>\n",
       "      <td>0.0</td>\n",
       "      <td>0.00</td>\n",
       "    </tr>\n",
       "    <tr>\n",
       "      <th>4</th>\n",
       "      <td>8862</td>\n",
       "      <td>2021-03-01T00:00:00</td>\n",
       "      <td>40-59yrs</td>\n",
       "      <td>0.0</td>\n",
       "      <td>0.0</td>\n",
       "      <td>0.02</td>\n",
       "    </tr>\n",
       "  </tbody>\n",
       "</table>\n",
       "</div>"
      ],
      "text/plain": [
       "    _id                 date age_group  deaths_boost_vac_rate_7ma  \\\n",
       "0  8858  2021-03-01T00:00:00    0-4yrs                        0.0   \n",
       "1  8859  2021-03-01T00:00:00   5-11yrs                        0.0   \n",
       "2  8860  2021-03-01T00:00:00  12-17yrs                        0.0   \n",
       "3  8861  2021-03-01T00:00:00  18-39yrs                        0.0   \n",
       "4  8862  2021-03-01T00:00:00  40-59yrs                        0.0   \n",
       "\n",
       "   deaths_full_vac_rate_7ma  deaths_not_full_vac_rate_7ma  \n",
       "0                       0.0                          0.00  \n",
       "1                       0.0                          0.00  \n",
       "2                       0.0                          0.00  \n",
       "3                       0.0                          0.00  \n",
       "4                       0.0                          0.02  "
      ]
     },
     "execution_count": 4,
     "metadata": {},
     "output_type": "execute_result"
    }
   ],
   "source": [
    "# Load the dataset\n",
    "dataset = pd.read_csv('2aa6e2ce-40de-4910-a737-81762e014b0b.csv')\n",
    "\n",
    "# Display the first few rows of the dataset\n",
    "dataset.head()"
   ]
  },
  {
   "cell_type": "code",
   "execution_count": 6,
   "id": "1028b521-3a89-4245-9fca-caf5ac6bca6d",
   "metadata": {},
   "outputs": [
    {
     "data": {
      "text/plain": [
       "8892"
      ]
     },
     "execution_count": 6,
     "metadata": {},
     "output_type": "execute_result"
    }
   ],
   "source": [
    "# Display the length of the dataset\n",
    "len(dataset)"
   ]
  },
  {
   "cell_type": "code",
   "execution_count": 7,
   "id": "00827124-018d-4365-9940-b830336eeaab",
   "metadata": {},
   "outputs": [
    {
     "name": "stdout",
     "output_type": "stream",
     "text": [
      "\n",
      "General info about the dataset:\n",
      "<class 'pandas.core.frame.DataFrame'>\n",
      "RangeIndex: 8892 entries, 0 to 8891\n",
      "Data columns (total 6 columns):\n",
      " #   Column                        Non-Null Count  Dtype  \n",
      "---  ------                        --------------  -----  \n",
      " 0   _id                           8892 non-null   int64  \n",
      " 1   date                          8892 non-null   object \n",
      " 2   age_group                     8892 non-null   object \n",
      " 3   deaths_boost_vac_rate_7ma     8892 non-null   float64\n",
      " 4   deaths_full_vac_rate_7ma      8892 non-null   float64\n",
      " 5   deaths_not_full_vac_rate_7ma  8892 non-null   float64\n",
      "dtypes: float64(3), int64(1), object(2)\n",
      "memory usage: 416.9+ KB\n",
      "None\n"
     ]
    }
   ],
   "source": [
    "# Display general information about the dataset and checking for null values\n",
    "print(\"\\nGeneral info about the dataset:\")\n",
    "print(dataset.info())"
   ]
  },
  {
   "cell_type": "markdown",
   "id": "8e7a8665-80d9-486c-b1b2-6c3d8913ea5f",
   "metadata": {},
   "source": [
    "It appears that no null values are present in the data, we can double check that with:"
   ]
  },
  {
   "cell_type": "code",
   "execution_count": 8,
   "id": "d756d73b-049b-4285-ba8d-afeda8208e34",
   "metadata": {},
   "outputs": [
    {
     "name": "stdout",
     "output_type": "stream",
     "text": [
      "\n",
      "Missing values in the dataset:\n",
      "_id                             0\n",
      "date                            0\n",
      "age_group                       0\n",
      "deaths_boost_vac_rate_7ma       0\n",
      "deaths_full_vac_rate_7ma        0\n",
      "deaths_not_full_vac_rate_7ma    0\n",
      "dtype: int64\n"
     ]
    }
   ],
   "source": [
    "# Check for missing values in the dataset\n",
    "print(\"\\nMissing values in the dataset:\")\n",
    "print(dataset.isnull().sum())"
   ]
  },
  {
   "cell_type": "markdown",
   "id": "4f67bdad-6e82-4696-8e82-db99ffc9212b",
   "metadata": {},
   "source": [
    "Now we check the data types, this will be helpful to understand how to use the values stored in every column"
   ]
  },
  {
   "cell_type": "code",
   "execution_count": 10,
   "id": "c313cc82-d267-4924-9122-cc3794ca4dcb",
   "metadata": {},
   "outputs": [
    {
     "name": "stdout",
     "output_type": "stream",
     "text": [
      "\n",
      "Column names and data types:\n",
      "_id                               int64\n",
      "date                             object\n",
      "age_group                        object\n",
      "deaths_boost_vac_rate_7ma       float64\n",
      "deaths_full_vac_rate_7ma        float64\n",
      "deaths_not_full_vac_rate_7ma    float64\n",
      "dtype: object\n"
     ]
    }
   ],
   "source": [
    "# Check the column names and data types\n",
    "print(\"\\nColumn names and data types:\")\n",
    "print(dataset.dtypes)"
   ]
  },
  {
   "cell_type": "markdown",
   "id": "0e1101ec-daca-4077-b91f-680cebecbe47",
   "metadata": {},
   "source": [
    "Now we convert the date column to datetime variable"
   ]
  },
  {
   "cell_type": "code",
   "execution_count": 13,
   "id": "818fc758-e35d-41e9-823a-5613af93c812",
   "metadata": {},
   "outputs": [],
   "source": [
    "# Convert the 'date' column to datetime\n",
    "dataset['date'] = pd.to_datetime(dataset['date'])"
   ]
  },
  {
   "cell_type": "markdown",
   "id": "748989b0-7bd6-4b92-a415-b85ef2a664fc",
   "metadata": {},
   "source": [
    "Summary statistics are helpful in understanding central tendency and dispersion of the data in the columns"
   ]
  },
  {
   "cell_type": "code",
   "execution_count": 9,
   "id": "923aedc9-b871-4af5-80f3-ea463e30887c",
   "metadata": {},
   "outputs": [
    {
     "name": "stdout",
     "output_type": "stream",
     "text": [
      "\n",
      "Summary statistics for numerical columns:\n",
      "               _id  deaths_boost_vac_rate_7ma  deaths_full_vac_rate_7ma  \\\n",
      "count   8892.00000                8892.000000               8892.000000   \n",
      "mean   13303.50000                   0.024245                  0.023695   \n",
      "std     2567.04363                   0.067461                  0.109072   \n",
      "min     8858.00000                   0.000000                  0.000000   \n",
      "25%    11080.75000                   0.000000                  0.000000   \n",
      "50%    13303.50000                   0.000000                  0.000000   \n",
      "75%    15526.25000                   0.010000                  0.000000   \n",
      "max    17749.00000                   0.810000                  1.970000   \n",
      "\n",
      "       deaths_not_full_vac_rate_7ma  \n",
      "count                   8892.000000  \n",
      "mean                       0.261889  \n",
      "std                        1.218294  \n",
      "min                        0.000000  \n",
      "25%                        0.000000  \n",
      "50%                        0.000000  \n",
      "75%                        0.030000  \n",
      "max                       18.330000  \n"
     ]
    }
   ],
   "source": [
    "# Summary statistics for numerical columns\n",
    "print(\"\\nSummary statistics for numerical columns:\")\n",
    "print(dataset.describe())"
   ]
  },
  {
   "cell_type": "markdown",
   "id": "92c8a024-ab43-454e-8630-391bf772caba",
   "metadata": {},
   "source": [
    "We can tell right away that there seems to be an important difference between the mean death rates of the non-vaccinated vs the vaccinated group [0.26 -0.024). We will explore this further down bellow"
   ]
  },
  {
   "cell_type": "markdown",
   "id": "36d5f5d1-48c7-40ce-b830-6f0b2da98b9b",
   "metadata": {},
   "source": [
    "## Data Visualization\n",
    "Exploratoring trends and relationships in the data through data visualization"
   ]
  },
  {
   "cell_type": "code",
   "execution_count": null,
   "id": "76c89039-ff37-4173-8674-5dea008ea9e1",
   "metadata": {},
   "outputs": [],
   "source": []
  }
 ],
 "metadata": {
  "kernelspec": {
   "display_name": "Python 3 (ipykernel)",
   "language": "python",
   "name": "python3"
  },
  "language_info": {
   "codemirror_mode": {
    "name": "ipython",
    "version": 3
   },
   "file_extension": ".py",
   "mimetype": "text/x-python",
   "name": "python",
   "nbconvert_exporter": "python",
   "pygments_lexer": "ipython3",
   "version": "3.11.5"
  }
 },
 "nbformat": 4,
 "nbformat_minor": 5
}
